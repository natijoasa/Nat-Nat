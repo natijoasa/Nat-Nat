{
 "cells": [
  {
   "cell_type": "code",
   "execution_count": 7,
   "id": "5c65c53a-a5a9-409f-87e7-b8a1806ed937",
   "metadata": {
    "editable": true,
    "slideshow": {
     "slide_type": ""
    },
    "tags": []
   },
   "outputs": [
    {
     "name": "stdin",
     "output_type": "stream",
     "text": [
      "Enter Building Width (m):  6\n",
      "Enter Building Length (m):  6\n",
      "Enter Roof Angle (degrees):  12\n",
      "Enter pv width (mm):  2\n",
      "Enter pv height (mm):  3\n",
      "Enter pv power (Wp):  40\n"
     ]
    },
    {
     "name": "stdout",
     "output_type": "stream",
     "text": [
      "245157360.0\n"
     ]
    }
   ],
   "source": [
    "import math as m\n",
    " \n",
    "building_width = float(input('Enter Building Width (m): '))\n",
    "building_length = float(input('Enter Building Length (m): '))\n",
    "roof_angle = float(input('Enter Roof Angle (degrees): '))\n",
    "pv_width = float(input('Enter pv width (mm): '))\n",
    "pv_height = float(input('Enter pv height (mm): '))\n",
    "pv_power = float(input('Enter pv power (Wp): '))\n",
    " \n",
    "roof_width = building_width / (m.cos((roof_angle*m.pi)/180))\n",
    " \n",
    "number_panels = 2*((roof_width/2)//(pv_width/1000)) * (building_length//(pv_height/1000))\n",
    " \n",
    "Total_Capacity = number_panels*pv_power\n",
    " \n",
    "print(Total_Capacity)"
   ]
  },
  {
   "cell_type": "code",
   "execution_count": null,
   "id": "b71d3137-088f-4537-8461-4d2ce2442da8",
   "metadata": {},
   "outputs": [],
   "source": []
  }
 ],
 "metadata": {
  "kernelspec": {
   "display_name": "Python 3 (ipykernel)",
   "language": "python",
   "name": "python3"
  },
  "language_info": {
   "codemirror_mode": {
    "name": "ipython",
    "version": 3
   },
   "file_extension": ".py",
   "mimetype": "text/x-python",
   "name": "python",
   "nbconvert_exporter": "python",
   "pygments_lexer": "ipython3",
   "version": "3.12.7"
  }
 },
 "nbformat": 4,
 "nbformat_minor": 5
}
